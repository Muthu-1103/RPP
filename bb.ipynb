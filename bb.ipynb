{
 "cells": [
  {
   "cell_type": "code",
   "execution_count": 55,
   "metadata": {},
   "outputs": [],
   "source": [
    "import numpy as np\n",
    "import pandas as pd\n",
    "import xml.etree.ElementTree as ET\n",
    "from sklearn.preprocessing import MinMaxScaler\n",
    "from sklearn.model_selection import train_test_split\n",
    "from tensorflow.keras.models import Sequential\n",
    "from tensorflow.keras.layers import LSTM, Dense\n",
    "import matplotlib.pyplot as plt\n"
   ]
  },
  {
   "cell_type": "code",
   "execution_count": 56,
   "metadata": {},
   "outputs": [],
   "source": [
    "def parse_xml(xml_file):\n",
    "    tree = ET.parse(xml_file)\n",
    "    root = tree.getroot()\n",
    "    \n",
    "    glucose_levels = []\n",
    "    basal_insulin = []\n",
    "    bolus_insulin = []\n",
    "    carbs = []\n",
    "    timestamps = []\n",
    "\n",
    "    # Extract glucose levels\n",
    "    for glucose_event in root.findall(\".//glucose_level/event\"):\n",
    "        ts = glucose_event.get('ts')\n",
    "        value = float(glucose_event.get('value'))\n",
    "        glucose_levels.append((ts, value))\n",
    "\n",
    "    # Extract basal insulin\n",
    "    for basal_event in root.findall(\".//basal/event\"):\n",
    "        ts = basal_event.get('ts')\n",
    "        value = float(basal_event.get('value'))\n",
    "        basal_insulin.append((ts, value))\n",
    "\n",
    "    # Extract bolus insulin\n",
    "    for bolus_event in root.findall(\".//bolus/event\"):\n",
    "        ts = bolus_event.get('ts_begin')\n",
    "        dose = float(bolus_event.get('dose'))\n",
    "        bolus_insulin.append((ts, dose))\n",
    "\n",
    "    # Extract meal data\n",
    "    for meal_event in root.findall(\".//meal/event\"):\n",
    "        ts = meal_event.get('ts')\n",
    "        carbs_value = float(meal_event.get('carbs'))\n",
    "        carbs.append((ts, carbs_value))\n",
    "\n",
    "    # Combine all data into a DataFrame\n",
    "    data = []\n",
    "    for ts, glucose in glucose_levels:\n",
    "        basal = next((value for t, value in basal_insulin if t == ts), 0)\n",
    "        bolus = next((dose for t, dose in bolus_insulin if t == ts), 0)\n",
    "        meal = next((carbs_value for t, carbs_value in carbs if t == ts), 0)\n",
    "        data.append((ts, glucose, basal, bolus, meal))\n",
    "\n",
    "    df = pd.DataFrame(data, columns=['timestamp', 'glucose', 'basal_insulin', 'bolus_insulin', 'carbs'])\n",
    "    \n",
    "    # Specify the correct format for parsing the timestamp\n",
    "    df['timestamp'] = pd.to_datetime(df['timestamp'], format='%d-%m-%Y %H:%M:%S')\n",
    "    \n",
    "    return df\n"
   ]
  },
  {
   "cell_type": "code",
   "execution_count": 57,
   "metadata": {},
   "outputs": [
    {
     "name": "stdout",
     "output_type": "stream",
     "text": [
      "                timestamp  glucose  basal_insulin  bolus_insulin  carbs\n",
      "0     2027-05-19 11:36:29     76.0            0.0            0.0    0.0\n",
      "1     2027-05-19 11:41:29     72.0            0.0            0.0    0.0\n",
      "2     2027-05-19 11:46:29     68.0            0.0            0.0    0.0\n",
      "3     2027-05-19 11:51:29     65.0            0.0            0.0    0.0\n",
      "4     2027-05-19 11:56:29     63.0            0.0            0.0    0.0\n",
      "...                   ...      ...            ...            ...    ...\n",
      "10872 2027-05-26 23:39:00    170.0            0.0            0.0    0.0\n",
      "10873 2027-05-26 23:44:00    172.0            0.0            0.0    0.0\n",
      "10874 2027-05-26 23:49:00    173.0            0.0            0.0    0.0\n",
      "10875 2027-05-26 23:54:00    174.0            0.0            0.0    0.0\n",
      "10876 2027-05-26 23:59:00    174.0            0.0            0.0    0.0\n",
      "\n",
      "[65535 rows x 5 columns]                timestamp  glucose  basal_insulin  bolus_insulin  carbs\n",
      "0    2027-07-04 00:01:44    254.0            0.0              0    0.0\n",
      "1    2027-07-04 00:06:44    250.0            0.0              0    0.0\n",
      "2    2027-07-04 00:11:44    249.0            0.0              0    0.0\n",
      "3    2027-07-04 00:16:44    247.0            0.0              0    0.0\n",
      "4    2027-07-04 00:21:44    242.0            0.0              0    0.0\n",
      "...                  ...      ...            ...            ...    ...\n",
      "2738 2027-06-06 09:51:00     92.0            0.0              0    0.0\n",
      "2739 2027-06-06 09:56:00     93.0            0.0              0    0.0\n",
      "2740 2027-06-06 10:01:00     90.0            0.0              0    0.0\n",
      "2741 2027-06-06 10:06:00     86.0            0.0              0    0.0\n",
      "2742 2027-06-06 10:11:00     87.0            0.0              0    0.0\n",
      "\n",
      "[15773 rows x 5 columns]\n"
     ]
    }
   ],
   "source": [
    "training_files = [\n",
    "    'E:/SEM8/Code/Ohio T1DM/OhioT1DM/2020/train/540-ws-training.xml', \n",
    "    'E:/SEM8/Code/Ohio T1DM/OhioT1DM/2020/train/544-ws-training.xml', \n",
    "    'E:/SEM8/Code/Ohio T1DM/OhioT1DM/2020/train/552-ws-training.xml', \n",
    "    'E:/SEM8/Code/Ohio T1DM/OhioT1DM/2020/train/567-ws-training.xml', \n",
    "    'E:/SEM8/Code/Ohio T1DM/OhioT1DM/2020/train/584-ws-training.xml', \n",
    "    'E:/SEM8/Code/Ohio T1DM/OhioT1DM/2020/train/596-ws-training.xml'\n",
    "]\n",
    "\n",
    "# Paths to testing XML files\n",
    "testing_files = [\n",
    "    'E:/SEM8/Code/Ohio T1DM/OhioT1DM/2020/test/540-ws-testing.xml', \n",
    "    'E:/SEM8/Code/Ohio T1DM/OhioT1DM/2020/test/544-ws-testing.xml', \n",
    "    'E:/SEM8/Code/Ohio T1DM/OhioT1DM/2020/test/552-ws-testing.xml', \n",
    "    'E:/SEM8/Code/Ohio T1DM/OhioT1DM/2020/test/567-ws-testing.xml', \n",
    "    'E:/SEM8/Code/Ohio T1DM/OhioT1DM/2020/test/584-ws-testing.xml', \n",
    "    'E:/SEM8/Code/Ohio T1DM/OhioT1DM/2020/test/596-ws-testing.xml'\n",
    "]\n",
    "\n",
    "# Load and preprocess training data\n",
    "training_data = [parse_xml(file) for file in training_files]\n",
    "training_df = pd.concat([data for data in training_data])\n",
    "\n",
    "# Load and preprocess testing data\n",
    "testing_data = [parse_xml(file) for file in testing_files]\n",
    "testing_df = pd.concat([data for data in testing_data])\n",
    "print(training_df,testing_df)\n",
    "\n"
   ]
  },
  {
   "cell_type": "code",
   "execution_count": 58,
   "metadata": {},
   "outputs": [],
   "source": [
    "scaler = MinMaxScaler(feature_range=(0, 1))\n",
    "\n",
    "# Scale the features: glucose, basal insulin, bolus insulin, carbs\n",
    "training_features = training_df[['glucose', 'basal_insulin', 'bolus_insulin', 'carbs']].values\n",
    "testing_features = testing_df[['glucose', 'basal_insulin', 'bolus_insulin', 'carbs']].values\n",
    "\n",
    "training_scaled = scaler.fit_transform(training_features)\n",
    "testing_scaled = scaler.transform(testing_features)\n"
   ]
  },
  {
   "cell_type": "code",
   "execution_count": 59,
   "metadata": {},
   "outputs": [],
   "source": [
    "def create_sequences(data, time_steps=10, horizon=30):\n",
    "    X, y = [], []\n",
    "    for i in range(len(data) - time_steps - horizon):\n",
    "        X.append(data[i:i+time_steps, :-1])  # All features except glucose\n",
    "        y.append(data[i+time_steps+horizon-1, 0])  # Glucose value at the horizon as target\n",
    "    return np.array(X), np.array(y)\n",
    "\n",
    "X_train, y_train = create_sequences(training_scaled, time_steps=3)\n",
    "X_test, y_test = create_sequences(testing_scaled, time_steps=3)\n"
   ]
  },
  {
   "cell_type": "code",
   "execution_count": null,
   "metadata": {},
   "outputs": [
    {
     "name": "stdout",
     "output_type": "stream",
     "text": [
      "Epoch 1/200\n"
     ]
    },
    {
     "name": "stderr",
     "output_type": "stream",
     "text": [
      "d:\\Anaconda\\Lib\\site-packages\\keras\\src\\layers\\rnn\\rnn.py:204: UserWarning: Do not pass an `input_shape`/`input_dim` argument to a layer. When using Sequential models, prefer using an `Input(shape)` object as the first layer in the model instead.\n",
      "  super().__init__(**kwargs)\n"
     ]
    }
   ],
   "source": [
    "\n",
    "model = Sequential()\n",
    "model.add(LSTM(50, activation='relu', input_shape=(X_train.shape[1], X_train.shape[2]), return_sequences=True))\n",
    "model.add(LSTM(50, return_sequences=True))\n",
    "model.add(LSTM(30))\n",
    "model.add(Dense(1))\n",
    "\n",
    "model.compile(optimizer='adam', loss='mean_squared_error')\n",
    "\n",
    "# Train the model\n",
    "history = model.fit(X_train, y_train, epochs=200, batch_size=32, validation_data=(X_test, y_test), verbose=1)\n",
    "\n",
    "# Make predictions\n",
    "predictions = model.predict(X_test)\n",
    "\n",
    "\n",
    "# Rescale predictions and actual values back to original scale\n",
    "# Rescale predictions and actual values back to original scale\n",
    "predictions_rescaled = scaler.inverse_transform(np.concatenate([predictions, np.zeros_like(predictions), np.zeros_like(predictions), np.zeros_like(predictions)], axis=-1))[:, 0]\n",
    "y_test_rescaled = scaler.inverse_transform(np.concatenate([y_test.reshape(-1, 1), np.zeros_like(y_test.reshape(-1, 1)), np.zeros_like(y_test.reshape(-1, 1)), np.zeros_like(y_test.reshape(-1, 1))], axis=-1))[:, 0]\n"
   ]
  },
  {
   "cell_type": "code",
   "execution_count": 61,
   "metadata": {},
   "outputs": [],
   "source": [
    "from sklearn.metrics import mean_squared_error\n",
    "\n",
    "\n",
    "def evaluate_model(model, X_test, y_test, time_steps):\n",
    "    # Ensure the test data is properly shaped for LSTM\n",
    "    X_test_lstm = []\n",
    "    for i in range(time_steps, len(X_test)):\n",
    "        X_test_lstm.append(X_test[i-time_steps:i, :])\n",
    "    X_test_lstm = np.array(X_test_lstm)\n",
    "    print(X_test_lstm)\n",
    "    predictions = model.predict(X_test_lstm)\n",
    "    # Calculate RMSE\n",
    "    rmse = np.sqrt(mean_squared_error(y_test[time_steps:], predictions))\n",
    "    print(f'RMSE: {rmse}')\n",
    "    \n",
    "    return predictions"
   ]
  },
  {
   "cell_type": "code",
   "execution_count": 62,
   "metadata": {},
   "outputs": [
    {
     "data": {
      "image/png": "[encoded data removed]",
      "text/plain": [
       "<Figure size 1400x700 with 1 Axes>"
      ]
     },
     "metadata": {},
     "output_type": "display_data"
    }
   ],
   "source": [
    "plt.figure(figsize=(14, 7))\n",
    "plt.plot(testing_df['timestamp'][len(testing_df) - len(y_test_rescaled):], y_test_rescaled, label='True Glucose Levels', color='black')\n",
    "plt.plot(testing_df['timestamp'][len(testing_df) - len(predictions_rescaled):], predictions_rescaled, label='Predicted Glucose Levels', color='blue')\n",
    "plt.xlabel('Time')\n",
    "plt.ylabel('Glucose Level')\n",
    "plt.title('True vs Predicted Glucose Levels')\n",
    "plt.legend()\n",
    "plt.show()\n"
   ]
  },
  {
   "cell_type": "code",
   "execution_count": 63,
   "metadata": {},
   "outputs": [
    {
     "name": "stdout",
     "output_type": "stream",
     "text": [
      "Root Mean Squared Error (RMSE): 53.74182903495043\n"
     ]
    }
   ],
   "source": [
    "from sklearn.metrics import mean_squared_error\n",
    "\n",
    "\n",
    "rmse = np.sqrt(mean_squared_error(y_test_rescaled, predictions_rescaled))\n",
    "print(f\"Root Mean Squared Error (RMSE): {rmse}\")"
   ]
  },
  {
   "cell_type": "code",
   "execution_count": 64,
   "metadata": {},
   "outputs": [
    {
     "name": "stdout",
     "output_type": "stream",
     "text": [
      "Mean Absolute Error (MAE): 42.7984887347288\n"
     ]
    }
   ],
   "source": [
    "from sklearn.metrics import mean_absolute_error\n",
    "\n",
    "\n",
    "mae = mean_absolute_error(y_test_rescaled, predictions_rescaled)\n",
    "print(f\"Mean Absolute Error (MAE): {mae}\")"
   ]
  },
  {
   "cell_type": "code",
   "execution_count": 42,
   "metadata": {},
   "outputs": [],
   "source": [
    "def compute_time_gain(Ts, PH, y_true, y_pred):\n",
    "    \"\"\"\n",
    "    Compute the Time Gain (TG) for glucose level prediction in T1DM.\n",
    "\n",
    "    Parameters:\n",
    "    Ts (float): Sampling time\n",
    "    PH (int): Prediction horizon\n",
    "    y_true (numpy array): True glucose levels\n",
    "    y_pred (numpy array): Predicted glucose levels\n",
    "\n",
    "    Returns:\n",
    "    TG (numpy array): Time Gain values\n",
    "    \"\"\"\n",
    "    TG = np.zeros(PH)\n",
    "    for i in range(PH):\n",
    "        delay = np.abs(y_true[i] - y_pred[i])\n",
    "        TG[i] = (i + 1) * Ts - delay\n",
    "    return TG"
   ]
  }
 ],
 "metadata": {
  "kernelspec": {
   "display_name": "Python 3",
   "language": "python",
   "name": "python3"
  },
  "language_info": {
   "codemirror_mode": {
    "name": "ipython",
    "version": 3
   },
   "file_extension": ".py",
   "mimetype": "text/x-python",
   "name": "python",
   "nbconvert_exporter": "python",
   "pygments_lexer": "ipython3",
   "version": "3.11.7"
  }
 },
 "nbformat": 4,
 "nbformat_minor": 2
}
